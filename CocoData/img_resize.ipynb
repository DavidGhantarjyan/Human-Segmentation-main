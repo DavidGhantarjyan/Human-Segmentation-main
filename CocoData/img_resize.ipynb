{
 "cells": [
  {
   "cell_type": "code",
   "id": "initial_id",
   "metadata": {
    "collapsed": true,
    "ExecuteTime": {
     "end_time": "2025-04-21T23:18:29.048399Z",
     "start_time": "2025-04-21T23:18:29.044982Z"
    }
   },
   "source": [
    "import os\n",
    "import cv2\n",
    "from concurrent.futures import ThreadPoolExecutor, as_completed\n",
    "\n",
    "import numpy as np\n",
    "from tqdm import tqdm"
   ],
   "outputs": [],
   "execution_count": 8
  },
  {
   "metadata": {
    "ExecuteTime": {
     "end_time": "2025-04-21T23:18:29.554091Z",
     "start_time": "2025-04-21T23:18:29.551090Z"
    }
   },
   "cell_type": "code",
   "source": "data_folder = r'.\\model_test'",
   "id": "f1f4ed585ca2f67b",
   "outputs": [],
   "execution_count": 9
  },
  {
   "metadata": {
    "ExecuteTime": {
     "end_time": "2025-04-21T23:18:30.334223Z",
     "start_time": "2025-04-21T23:18:30.330390Z"
    }
   },
   "cell_type": "code",
   "source": [
    "def letterbox(image, target_size=(640, 360), interpolation=cv2.INTER_AREA):\n",
    "    h, w = image.shape[:2]\n",
    "    target_w, target_h = target_size\n",
    "    aspect_ratio = w / h\n",
    "    target_aspect = target_w / target_h\n",
    "\n",
    "    if aspect_ratio > target_aspect:\n",
    "        scale = target_w / w\n",
    "        new_w = target_w\n",
    "        new_h = int(h * scale)\n",
    "    elif aspect_ratio < target_aspect:\n",
    "        scale = target_h / h\n",
    "        new_h = target_h\n",
    "        new_w = int(w * scale)\n",
    "    else:\n",
    "        new_h = target_h\n",
    "        new_w = target_w\n",
    "\n",
    "    img = cv2.resize(image, (new_w, new_h), interpolation=interpolation)\n",
    "\n",
    "    return img\n",
    "\n"
   ],
   "id": "de69967132b85bc9",
   "outputs": [],
   "execution_count": 10
  },
  {
   "metadata": {
    "ExecuteTime": {
     "end_time": "2025-04-21T23:18:33.365312Z",
     "start_time": "2025-04-21T23:18:33.361631Z"
    }
   },
   "cell_type": "code",
   "source": [
    "def process_input_image(filename, input_folder, resized_input_folder, interpolation=cv2.INTER_LINEAR):\n",
    "    if filename.endswith(\".jpg\"):\n",
    "        img_path = os.path.join(input_folder, filename)\n",
    "        img = letterbox(cv2.imread(img_path) ,interpolation= interpolation)\n",
    "        cv2.imwrite(os.path.join(resized_input_folder, filename), img)\n"
   ],
   "id": "a9a1d17f41b1eb83",
   "outputs": [],
   "execution_count": 11
  },
  {
   "metadata": {
    "ExecuteTime": {
     "end_time": "2025-04-21T23:18:34.852781Z",
     "start_time": "2025-04-21T23:18:34.848373Z"
    }
   },
   "cell_type": "code",
   "source": [
    "def process_target_image(filename, target_folder, resized_target_folder, interpolation=cv2.INTER_NEAREST):\n",
    "    if filename.endswith(\".png\"):\n",
    "        target_path = os.path.join(target_folder, filename)\n",
    "        target = letterbox(cv2.imread(target_path), interpolation=interpolation)\n",
    "        cv2.imwrite(os.path.join(resized_target_folder, filename), target)\n"
   ],
   "id": "2c742ce5c72e3ba3",
   "outputs": [],
   "execution_count": 12
  },
  {
   "metadata": {
    "ExecuteTime": {
     "end_time": "2025-04-21T23:18:57.925488Z",
     "start_time": "2025-04-21T23:18:57.920567Z"
    }
   },
   "cell_type": "code",
   "source": [
    "def resize_images(data_folder, output_size=(640, 360)):\n",
    "    \"\"\"\n",
    "    Resize images from the 'input' and 'target' subfolders in data_folder.\n",
    "    Resized images are saved in new folders 'input_resized' and 'target_resized'.\n",
    "    The process uses multithreading via ThreadPoolExecutor and displays progress with tqdm.\n",
    "    \"\"\"\n",
    "    # Define input and target folder paths\n",
    "    input_folder = os.path.join(data_folder, 'input')\n",
    "    target_folder = os.path.join(data_folder, 'target')\n",
    "\n",
    "\n",
    "    if not os.path.exists(input_folder) or not os.path.exists(target_folder):\n",
    "        print(\"The specified folders do not exist.\")\n",
    "        return\n",
    "\n",
    "    # Create output folders for resized images\n",
    "    resized_input_folder = os.path.join(data_folder, \"input_resized\")\n",
    "    resized_target_folder = os.path.join(data_folder, \"target_resized\")\n",
    "    os.makedirs(resized_input_folder, exist_ok=True)\n",
    "    os.makedirs(resized_target_folder, exist_ok=True)\n",
    "\n",
    "    # Get list of files for input and target images\n",
    "    input_files = os.listdir(input_folder)\n",
    "    target_files = os.listdir(target_folder)\n",
    "\n",
    "    # Process input images using ThreadPoolExecutor with progress bar\n",
    "    with ThreadPoolExecutor(max_workers=os.cpu_count()) as executor:\n",
    "        futures = [\n",
    "            executor.submit(process_input_image, filename, input_folder, resized_input_folder)\n",
    "            for filename in input_files if filename.endswith(\".jpg\")\n",
    "        ]\n",
    "        for _ in tqdm(as_completed(futures), total=len(futures), desc=\"Resizing input images\"):\n",
    "            pass\n",
    "\n",
    "    # Process target images using ThreadPoolExecutor with progress bar\n",
    "    with ThreadPoolExecutor(max_workers=os.cpu_count()) as executor:\n",
    "        futures = [\n",
    "            executor.submit(process_target_image, filename, target_folder, resized_target_folder)\n",
    "            for filename in target_files if filename.endswith(\".png\")\n",
    "        ]\n",
    "        for _ in tqdm(as_completed(futures), total=len(futures), desc=\"Resizing target images\"):\n",
    "            pass\n",
    "\n",
    "    print(\"Resizing completed.\")\n",
    "\n"
   ],
   "id": "3419fbad2be0966d",
   "outputs": [],
   "execution_count": 13
  },
  {
   "metadata": {
    "ExecuteTime": {
     "end_time": "2025-04-21T23:19:32.302207Z",
     "start_time": "2025-04-21T23:18:58.629430Z"
    }
   },
   "cell_type": "code",
   "source": [
    "if __name__ == \"__main__\":\n",
    "    # Set your data folder path here\n",
    "    resize_images(data_folder)\n"
   ],
   "id": "a6e78e0bc81facd2",
   "outputs": [
    {
     "name": "stderr",
     "output_type": "stream",
     "text": [
      "Resizing input images: 100%|██████████| 5000/5000 [00:33<00:00, 149.18it/s]"
     ]
    },
    {
     "name": "stdout",
     "output_type": "stream",
     "text": [
      "Resizing completed.\n"
     ]
    },
    {
     "name": "stderr",
     "output_type": "stream",
     "text": [
      "\n"
     ]
    }
   ],
   "execution_count": 14
  },
  {
   "metadata": {},
   "cell_type": "code",
   "outputs": [],
   "execution_count": null,
   "source": "",
   "id": "9a11e55ec84f1ae5"
  }
 ],
 "metadata": {
  "kernelspec": {
   "display_name": "Python 3",
   "language": "python",
   "name": "python3"
  },
  "language_info": {
   "codemirror_mode": {
    "name": "ipython",
    "version": 2
   },
   "file_extension": ".py",
   "mimetype": "text/x-python",
   "name": "python",
   "nbconvert_exporter": "python",
   "pygments_lexer": "ipython2",
   "version": "2.7.6"
  }
 },
 "nbformat": 4,
 "nbformat_minor": 5
}
