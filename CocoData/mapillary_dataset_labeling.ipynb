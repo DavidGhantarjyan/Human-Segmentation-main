{
 "cells": [
  {
   "cell_type": "code",
   "id": "initial_id",
   "metadata": {
    "collapsed": true,
    "ExecuteTime": {
     "end_time": "2025-04-21T23:13:12.132980Z",
     "start_time": "2025-04-21T23:13:12.129265Z"
    }
   },
   "source": [
    "import os\n",
    "import cv2\n",
    "from concurrent.futures import ThreadPoolExecutor\n",
    "from tqdm import tqdm\n",
    "import numpy as np"
   ],
   "outputs": [],
   "execution_count": 40
  },
  {
   "metadata": {
    "ExecuteTime": {
     "end_time": "2025-04-21T23:13:12.451461Z",
     "start_time": "2025-04-21T23:13:12.446520Z"
    }
   },
   "cell_type": "code",
   "source": [
    "save_panoptic_label_dir_name = 'target1'\n",
    "save_panoptic_data_dir_name = 'input1'\n",
    "save_dir = 'validation_mapillary'\n",
    "save_panoptic_label_dir_path = os.path.join(save_dir, save_panoptic_label_dir_name)\n",
    "save_panoptic_data_dir_path = os.path.join(save_dir, save_panoptic_data_dir_name)"
   ],
   "id": "f0f3da7fd19a68ab",
   "outputs": [],
   "execution_count": 41
  },
  {
   "metadata": {
    "ExecuteTime": {
     "end_time": "2025-04-21T23:13:12.875634Z",
     "start_time": "2025-04-21T23:13:12.871467Z"
    }
   },
   "cell_type": "code",
   "source": "print(save_panoptic_label_dir_path, save_panoptic_data_dir_path)",
   "id": "ac11eba68b50e4b3",
   "outputs": [
    {
     "name": "stdout",
     "output_type": "stream",
     "text": [
      "validation_mapillary\\target1 validation_mapillary\\input1\n"
     ]
    }
   ],
   "execution_count": 42
  },
  {
   "metadata": {
    "ExecuteTime": {
     "end_time": "2025-04-21T23:13:13.278038Z",
     "start_time": "2025-04-21T23:13:13.273431Z"
    }
   },
   "cell_type": "code",
   "source": [
    "os.makedirs(save_dir, exist_ok=True)\n",
    "os.makedirs(save_panoptic_label_dir_path, exist_ok=True)\n",
    "os.makedirs(save_panoptic_data_dir_path, exist_ok=True)"
   ],
   "id": "412a7a3b67bd381b",
   "outputs": [],
   "execution_count": 43
  },
  {
   "metadata": {
    "ExecuteTime": {
     "end_time": "2025-04-21T23:13:13.888229Z",
     "start_time": "2025-04-21T23:13:13.884756Z"
    }
   },
   "cell_type": "code",
   "source": [
    "target_color = np.array([60, 20, 220])\n",
    "original_folder = \"validation_mapillary\"\n",
    "original_input_folder = f'{original_folder}\\input'\n",
    "original_target_folder = f'{original_folder}' + r'\\t' + 'arget'\n",
    "print(original_input_folder, original_target_folder)"
   ],
   "id": "e0aa832b6dabbd80",
   "outputs": [
    {
     "name": "stdout",
     "output_type": "stream",
     "text": [
      "validation_mapillary\\input validation_mapillary\\target\n"
     ]
    }
   ],
   "execution_count": 44
  },
  {
   "metadata": {
    "ExecuteTime": {
     "end_time": "2025-04-21T23:13:16.391223Z",
     "start_time": "2025-04-21T23:13:16.385296Z"
    }
   },
   "cell_type": "code",
   "source": "print(len(os.listdir(original_input_folder)))",
   "id": "194cf00d1b816f77",
   "outputs": [
    {
     "name": "stdout",
     "output_type": "stream",
     "text": [
      "2000\n"
     ]
    }
   ],
   "execution_count": 45
  },
  {
   "metadata": {
    "ExecuteTime": {
     "end_time": "2025-04-21T23:13:18.347330Z",
     "start_time": "2025-04-21T23:13:18.342884Z"
    }
   },
   "cell_type": "code",
   "source": [
    "def process_file(filename):\n",
    "    if not (filename.endswith('.jpg') or filename.endswith('.png')):\n",
    "        return\n",
    "    label_filename = os.path.splitext(filename)[0] + '.png'\n",
    "    input_path = os.path.join(original_input_folder, filename)\n",
    "    label_path = os.path.join(original_target_folder, label_filename)\n",
    "\n",
    "    label_img = cv2.imread(label_path)\n",
    "    if label_img is None:\n",
    "        return\n",
    "    mask = np.all(label_img == target_color, axis=2).astype(np.uint8) * 255\n",
    "    if np.any(mask):\n",
    "        new_input_path = os.path.join(save_panoptic_data_dir_path, filename)\n",
    "        cv2.imwrite(new_input_path, cv2.imread(input_path))\n",
    "\n",
    "        new_label_path = os.path.join(save_panoptic_label_dir_path, label_filename)\n",
    "        cv2.imwrite(new_label_path, mask)"
   ],
   "id": "2c09947f39e02973",
   "outputs": [],
   "execution_count": 46
  },
  {
   "metadata": {
    "ExecuteTime": {
     "end_time": "2025-04-21T23:14:39.226044Z",
     "start_time": "2025-04-21T23:13:18.891510Z"
    }
   },
   "cell_type": "code",
   "source": [
    "filenames = os.listdir(original_input_folder)\n",
    "\n",
    "with ThreadPoolExecutor(max_workers=os.cpu_count()) as executor:\n",
    "    list(tqdm(executor.map(process_file, filenames), total=len(filenames)))"
   ],
   "id": "2f3f1054f13cef9a",
   "outputs": [
    {
     "name": "stderr",
     "output_type": "stream",
     "text": [
      "100%|██████████| 2000/2000 [01:20<00:00, 24.97it/s]\n"
     ]
    }
   ],
   "execution_count": 47
  },
  {
   "metadata": {
    "ExecuteTime": {
     "end_time": "2025-04-21T23:12:48.568550Z",
     "start_time": "2025-04-21T23:12:48.566559Z"
    }
   },
   "cell_type": "code",
   "source": "",
   "id": "6f856c7235536093",
   "outputs": [],
   "execution_count": null
  },
  {
   "metadata": {},
   "cell_type": "code",
   "outputs": [],
   "execution_count": null,
   "source": "",
   "id": "c434742939969465"
  }
 ],
 "metadata": {
  "kernelspec": {
   "display_name": "Python 3",
   "language": "python",
   "name": "python3"
  },
  "language_info": {
   "codemirror_mode": {
    "name": "ipython",
    "version": 2
   },
   "file_extension": ".py",
   "mimetype": "text/x-python",
   "name": "python",
   "nbconvert_exporter": "python",
   "pygments_lexer": "ipython2",
   "version": "2.7.6"
  }
 },
 "nbformat": 4,
 "nbformat_minor": 5
}
